{
 "cells": [
  {
   "cell_type": "code",
   "execution_count": 4,
   "id": "d54f3131",
   "metadata": {},
   "outputs": [
    {
     "name": "stdout",
     "output_type": "stream",
     "text": [
      "Enter a phone number: 111111111#\n",
      "This is invalid number\n"
     ]
    }
   ],
   "source": [
    "phone_book = {\n",
    "    \"person1\" : {\n",
    "        \"Number\" : 1111111111,\n",
    "        \"Name\" : \"Amal\"\n",
    "    },\n",
    "    \"person2\" : {\n",
    "        \"Number\" : 2222222222,\n",
    "        \"Name\" : \"Mohammed\"\n",
    "    },\n",
    "    \"person3\" : {\n",
    "        \"Number\" : 3333333333,\n",
    "        \"Name\" : \"Khadijah\"\n",
    "    },\n",
    "    \"person4\" : {\n",
    "        \"Number\" : 4444444444,\n",
    "        \"Name\" : \"Abdullah\"\n",
    "    },\n",
    "    \"person5\" : {\n",
    "        \"Number\" : 5555555555,\n",
    "        \"Name\" : \"Rawan\"\n",
    "    },\n",
    "    \"person6\" : {\n",
    "        \"Number\" : 6666666666,\n",
    "        \"Name\" : \"Faisal\"\n",
    "    },\n",
    "    \"person7\" : {\n",
    "        \"Number\" : 7777777777,\n",
    "        \"Name\" : \"Layla\"\n",
    "    },\n",
    "}\n",
    "\n",
    "number1 = input(\"Enter a phone number: \")\n",
    "if number1.isdigit():\n",
    "    if len(str(number1)) != 10:\n",
    "        print(\"This is invalid number\")\n",
    "    else:\n",
    "        a = 0\n",
    "        number2 = int(number1)\n",
    "        for i in phone_book.values():\n",
    "            if i[\"Number\"] == number2:\n",
    "                print(i[\"Name\"])\n",
    "                a = 1\n",
    "                break\n",
    "        if a == 0:\n",
    "            print(\"Sorry, the number is not found\")\n",
    "else:\n",
    "    print(\"This is invalid number\")"
   ]
  }
 ],
 "metadata": {
  "kernelspec": {
   "display_name": "Python 3 (ipykernel)",
   "language": "python",
   "name": "python3"
  },
  "language_info": {
   "codemirror_mode": {
    "name": "ipython",
    "version": 3
   },
   "file_extension": ".py",
   "mimetype": "text/x-python",
   "name": "python",
   "nbconvert_exporter": "python",
   "pygments_lexer": "ipython3",
   "version": "3.11.3"
  }
 },
 "nbformat": 4,
 "nbformat_minor": 5
}
